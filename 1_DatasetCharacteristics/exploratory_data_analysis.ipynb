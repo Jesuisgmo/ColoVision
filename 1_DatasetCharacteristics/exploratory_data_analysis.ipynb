{
 "cells": [
  {
   "cell_type": "markdown",
   "metadata": {},
   "source": [
    "# Exploratory Data Analysis (EDA)\n",
    "\n",
    "## Table of Contents\n",
    "1. [Dataset Overview](#dataset-overview)\n",
    "2. [Handling Missing Values](#handling-missing-values)\n",
    "3. [Feature Distributions](#feature-distributions)\n",
    "4. [Possible Biases](#possible-biases)\n",
    "5. [Correlations](#correlations)\n"
   ]
  },
  {
   "cell_type": "markdown",
   "metadata": {},
   "source": []
  },
  {
   "cell_type": "code",
   "execution_count": null,
   "metadata": {},
   "outputs": [],
   "source": [
    "# Import necessary libraries\n",
    "import pandas as pd\n",
    "import numpy as np\n",
    "import matplotlib.pyplot as plt\n",
    "import seaborn as sns\n"
   ]
  },
  {
   "cell_type": "markdown",
   "metadata": {},
   "source": [
    "## Dataset Overview\n",
    "\n",
    "We used MHIST dataset that contains 3152 histological pictures of (H&E)-stained Formalin Fixed Paraffin-Embedded (FFPE) fixed-size images (224 by 224 pixels) of colorectal polyps from the Department of Pathology and Laboratory Medicine at Dartmouth-Hitchcock Medical Center (DHMC).\n"
   ]
  },
  {
   "cell_type": "code",
   "execution_count": null,
   "metadata": {},
   "outputs": [],
   "source": [
    "import pandas as pd\n",
    "\n",
    "# paths to the dataset\n",
    "excel_path = \"C:/Users/user/Desktop/Tensor-FLow Project/Filik.xlsx\"\n",
    "image_src_dir = \"C:/Users/user/Desktop/Tensor-FLow Project/images\"  #directory with all .png\n",
    "target_base_dir = \"C:/Users/user/Desktop/Tensor-FLow Project/images_by_class\"  # divided on classes\n",
    "\n",
    "# read Excel\n",
    "df = pd.read_excel(excel_path)\n",
    "df.columns = ['filename', 'label_str', 'partition']\n",
    "\n",
    "# organize dataset\n",
    "for _, row in df.iterrows():\n",
    "    label = row['label_str']   # HP or SSA\n",
    "    part = row['partition']    # train or test\n",
    "    fname = row['filename']\n",
    "\n",
    "    src_path = os.path.join(image_src_dir, fname)\n",
    "    dst_dir = os.path.join(target_base_dir, part, label)\n",
    "    dst_path = os.path.join(dst_dir, fname)\n",
    "\n",
    "    os.makedirs(dst_dir, exist_ok=True)\n",
    "\n",
    "    if os.path.exists(src_path):\n",
    "        shutil.copy(src_path, dst_path)\n",
    "    else:\n",
    "        print(f\"⚠️ File not found: {src_path}\")\n",
    "\n",
    "# make test directory\n",
    "test_dir = \"C:/Users/user/Desktop/Tensor-FLow Project/images_by_class/test\"\n",
    "\n",
    "data = []\n",
    "for label in ['HP', 'SSA']:\n",
    "    class_dir = os.path.join(test_dir, label)\n",
    "    for fname in os.listdir(class_dir):\n",
    "        data.append({\n",
    "            'filename': os.path.join(class_dir, fname),\n",
    "            'class': label\n",
    "        })\n",
    "\n",
    "df_test = pd.DataFrame(data)\n",
    "\n",
    "# make validation and final test directories\n",
    "df_val, df_final_test = train_test_split(\n",
    "    df_test, test_size=0.2, stratify=df_test['class'], random_state=42\n",
    ")\n",
    "\n",
    "train_gen = datagen.flow_from_directory(\n",
    "    \"C:/Users/user/Desktop/Tensor-FLow Project/images_by_class/train\",\n",
    "    target_size=(224, 224),\n",
    "    class_mode='binary',\n",
    "    batch_size=16,\n",
    "    shuffle=True\n",
    ")\n",
    "\n",
    "val_gen = datagen.flow_from_dataframe(\n",
    "    df_val,\n",
    "    x_col='filename',\n",
    "    y_col='class',\n",
    "    target_size=(224, 224),\n",
    "    class_mode='binary',\n",
    "    batch_size=16,\n",
    "    shuffle=False\n",
    ")\n",
    "\n",
    "test_gen = datagen.flow_from_dataframe(\n",
    "    df_final_test,\n",
    "    x_col='filename',\n",
    "    y_col='class',\n",
    "    target_size=(224, 224),\n",
    "    class_mode='binary',\n",
    "    batch_size=16,\n",
    "    shuffle=False\n",
    ")\n",
    "\n",
    "#total number of used images\n",
    "total_images = train_gen.samples + val_gen.samples + test_gen.samples\n",
    "print(f\"Total number of images: {total_images}\")\n",
    "# = 2628\n",
    "\n",
    "# Display the first few rows of the dataframe to show the structure\n",
    "print(\"Example data:\")\n",
    "print(df_val.head())\n",
    "#filename class\n",
    "#370  C:/Users/user/Desktop/Tensor-FLow Project/imag...    HP\n",
    "#188  C:/Users/user/Desktop/Tensor-FLow Project/imag...    HP\n",
    "#673  C:/Users/user/Desktop/Tensor-FLow Project/imag...   SSA\n",
    "#240  C:/Users/user/Desktop/Tensor-FLow Project/imag...    HP\n",
    "#23   C:/Users/user/Desktop/Tensor-FLow Project/imag...    HP\n"
   ]
  },
  {
   "cell_type": "markdown",
   "metadata": {},
   "source": [
    "## Handling Missing Values\n",
    "\n",
    "There are no missing values.\n"
   ]
  },
  {
   "cell_type": "markdown",
   "metadata": {},
   "source": [
    "## Feature Distributions\n",
    "\n",
    "We deleted all pictures with 3/7 or 4/7 pathologists voting for either HP or SSA, because it is around 50% possibility for either of the outcomes. We deleted the values in Excel file, and our code above searches for the remaining pictures only.\n"
   ]
  },
  {
   "cell_type": "markdown",
   "metadata": {},
   "source": [
    "## Possible Biases\n",
    "\n",
    "We have class bias: HP outweighs SSA image amount.\n"
   ]
  },
  {
   "cell_type": "code",
   "execution_count": null,
   "metadata": {},
   "outputs": [],
   "source": [
    "# Solved by focal loss function in model compilation (see further folders)."
   ]
  },
  {
   "cell_type": "markdown",
   "metadata": {},
   "source": [
    "## Correlations\n",
    "\n",
    "There are no correlations to be described.\n"
   ]
  }
 ],
 "metadata": {
  "kernelspec": {
   "display_name": "Python 3",
   "language": "python",
   "name": "python3"
  },
  "language_info": {
   "name": "python",
   "version": "3.8.0"
  }
 },
 "nbformat": 4,
 "nbformat_minor": 2
}
